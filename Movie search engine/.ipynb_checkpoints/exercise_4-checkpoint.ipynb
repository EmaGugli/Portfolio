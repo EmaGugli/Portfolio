{
 "cells": [
  {
   "cell_type": "code",
   "execution_count": 1,
   "metadata": {},
   "outputs": [
    {
     "name": "stdout",
     "output_type": "stream",
     "text": [
      "DATAMININGSAPIENZA\n",
      "7\n"
     ]
    }
   ],
   "source": [
    "s=input()\n",
    "c=0\n",
    "x=len(s)\n",
    "y=0\n",
    "#first we check if its length is equl to 1\n",
    "if len(s)==1:\n",
    "    c=1\n",
    "#then we check if its length is equl to 2\n",
    "if len(s)==2:\n",
    "    if s[0]==s[1]:\n",
    "        c=1\n",
    "    else:\n",
    "        c=0\n",
    "#for length more than 2 we check the characters similarity\n",
    "if len(s)>2:\n",
    "    for i in range(len(s)): \n",
    "        if len(s)-y>i+1:\n",
    "            for j in range (1,len(s)-i-1):\n",
    "                if i!=len(s)-j-y:\n",
    "                    if s[i]==s[len(s)-j-y]:\n",
    "                        c+=2\n",
    "                        y=y+j\n",
    "                        break\n",
    "                    else:\n",
    "                        continue\n",
    "                else:\n",
    "                    break\n",
    "#if there is any character between the 2 last similar characters\n",
    "        else:\n",
    "            if i!=len(s)-j-y-1:\n",
    "                c+=1\n",
    "            break\n",
    "print(c)\n",
    "            "
   ]
  },
  {
   "cell_type": "code",
   "execution_count": null,
   "metadata": {},
   "outputs": [],
   "source": []
  },
  {
   "cell_type": "code",
   "execution_count": null,
   "metadata": {},
   "outputs": [],
   "source": []
  }
 ],
 "metadata": {
  "kernelspec": {
   "display_name": "Python 3",
   "language": "python",
   "name": "python3"
  },
  "language_info": {
   "codemirror_mode": {
    "name": "ipython",
    "version": 3
   },
   "file_extension": ".py",
   "mimetype": "text/x-python",
   "name": "python",
   "nbconvert_exporter": "python",
   "pygments_lexer": "ipython3",
   "version": "3.7.7"
  }
 },
 "nbformat": 4,
 "nbformat_minor": 2
}
